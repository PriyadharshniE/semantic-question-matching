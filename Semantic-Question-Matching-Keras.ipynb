{
 "cells": [
  {
   "cell_type": "markdown",
   "metadata": {},
   "source": [
    "# Semantic-Question-Matching-Keras\n",
    "\n",
    "You can download data from: http://qim.ec.quoracdn.net/quora_duplicate_questions.tsv \n",
    "\n",
    "Dataset info: https://data.quora.com/First-Quora-Dataset-Release-Question-Pairs \n",
    "\n",
    "Blog post about Quora model: https://engineering.quora.com/Semantic-Question-Matching-with-Deep-Learning"
   ]
  },
  {
   "cell_type": "code",
   "execution_count": 1,
   "metadata": {},
   "outputs": [
    {
     "name": "stderr",
     "output_type": "stream",
     "text": [
      "Using TensorFlow backend.\n"
     ]
    }
   ],
   "source": [
    "import pandas as pd\n",
    "from nltk import sent_tokenize, word_tokenize\n",
    "import numpy as np\n",
    "import os\n",
    "from pathlib import Path\n",
    "from sklearn.model_selection import StratifiedKFold, train_test_split\n",
    "from sklearn.utils import shuffle\n",
    "import sqmutils.data_utils as du\n",
    "import time\n",
    "\n",
    "from keras.utils import multi_gpu_model\n",
    "import tensorflow as tf\n",
    "from keras import backend as K\n",
    "\n",
    "%load_ext autoreload\n",
    "%autoreload 2\n",
    "%matplotlib inline \n",
    "# fix random seed for reproducibility\n",
    "seed = 7\n",
    "\n",
    "pathToDataset = \"/home/elkhand/datasets/Quora/data/quora_duplicate_questions.tsv\"\n",
    "\n",
    "# embedding_path = \"/home/elkhand/datasets/glove-vectors/glove.twitter.27B.100d.txt\"\n",
    "# emb_dim = 100\n",
    "\n",
    "#embedding_path = \"/home/elkhand/datasets/glove-vectors/glove.840B.300d.txt\"\n",
    "#emb_dim = 300\n",
    "\n",
    "# https://fasttext.cc/docs/en/pretrained-vectors.html\n",
    "embedding_path = \"/home/elkhand/datasets/fasttext/wiki.en.vec\"\n",
    "emb_dim = 300\n",
    "\n",
    "\n",
    "train_dataset_path = pathToDataset\n"
   ]
  },
  {
   "cell_type": "markdown",
   "metadata": {},
   "source": [
    "## Data exploration"
   ]
  },
  {
   "cell_type": "code",
   "execution_count": 2,
   "metadata": {},
   "outputs": [
    {
     "data": {
      "text/html": [
       "<div>\n",
       "<style scoped>\n",
       "    .dataframe tbody tr th:only-of-type {\n",
       "        vertical-align: middle;\n",
       "    }\n",
       "\n",
       "    .dataframe tbody tr th {\n",
       "        vertical-align: top;\n",
       "    }\n",
       "\n",
       "    .dataframe thead th {\n",
       "        text-align: right;\n",
       "    }\n",
       "</style>\n",
       "<table border=\"1\" class=\"dataframe\">\n",
       "  <thead>\n",
       "    <tr style=\"text-align: right;\">\n",
       "      <th></th>\n",
       "      <th>id</th>\n",
       "      <th>qid1</th>\n",
       "      <th>qid2</th>\n",
       "      <th>question1</th>\n",
       "      <th>question2</th>\n",
       "      <th>is_duplicate</th>\n",
       "    </tr>\n",
       "  </thead>\n",
       "  <tbody>\n",
       "    <tr>\n",
       "      <th>0</th>\n",
       "      <td>0</td>\n",
       "      <td>1</td>\n",
       "      <td>2</td>\n",
       "      <td>What is the step by step guide to invest in sh...</td>\n",
       "      <td>What is the step by step guide to invest in sh...</td>\n",
       "      <td>0</td>\n",
       "    </tr>\n",
       "    <tr>\n",
       "      <th>1</th>\n",
       "      <td>1</td>\n",
       "      <td>3</td>\n",
       "      <td>4</td>\n",
       "      <td>What is the story of Kohinoor (Koh-i-Noor) Dia...</td>\n",
       "      <td>What would happen if the Indian government sto...</td>\n",
       "      <td>0</td>\n",
       "    </tr>\n",
       "    <tr>\n",
       "      <th>2</th>\n",
       "      <td>2</td>\n",
       "      <td>5</td>\n",
       "      <td>6</td>\n",
       "      <td>How can I increase the speed of my internet co...</td>\n",
       "      <td>How can Internet speed be increased by hacking...</td>\n",
       "      <td>0</td>\n",
       "    </tr>\n",
       "    <tr>\n",
       "      <th>3</th>\n",
       "      <td>3</td>\n",
       "      <td>7</td>\n",
       "      <td>8</td>\n",
       "      <td>Why am I mentally very lonely? How can I solve...</td>\n",
       "      <td>Find the remainder when [math]23^{24}[/math] i...</td>\n",
       "      <td>0</td>\n",
       "    </tr>\n",
       "    <tr>\n",
       "      <th>4</th>\n",
       "      <td>4</td>\n",
       "      <td>9</td>\n",
       "      <td>10</td>\n",
       "      <td>Which one dissolve in water quikly sugar, salt...</td>\n",
       "      <td>Which fish would survive in salt water?</td>\n",
       "      <td>0</td>\n",
       "    </tr>\n",
       "  </tbody>\n",
       "</table>\n",
       "</div>"
      ],
      "text/plain": [
       "   id  qid1  qid2                                          question1  \\\n",
       "0   0     1     2  What is the step by step guide to invest in sh...   \n",
       "1   1     3     4  What is the story of Kohinoor (Koh-i-Noor) Dia...   \n",
       "2   2     5     6  How can I increase the speed of my internet co...   \n",
       "3   3     7     8  Why am I mentally very lonely? How can I solve...   \n",
       "4   4     9    10  Which one dissolve in water quikly sugar, salt...   \n",
       "\n",
       "                                           question2  is_duplicate  \n",
       "0  What is the step by step guide to invest in sh...             0  \n",
       "1  What would happen if the Indian government sto...             0  \n",
       "2  How can Internet speed be increased by hacking...             0  \n",
       "3  Find the remainder when [math]23^{24}[/math] i...             0  \n",
       "4            Which fish would survive in salt water?             0  "
      ]
     },
     "execution_count": 2,
     "metadata": {},
     "output_type": "execute_result"
    }
   ],
   "source": [
    "df = pd.read_csv(pathToDataset, sep='\\t', encoding='utf-8')\n",
    "df.head()"
   ]
  },
  {
   "cell_type": "markdown",
   "metadata": {},
   "source": [
    "## Create train/dev/test set\n",
    "- train 98%\n",
    "- dev 1%\n",
    "- test 1%"
   ]
  },
  {
   "cell_type": "code",
   "execution_count": 3,
   "metadata": {
    "scrolled": false
   },
   "outputs": [
    {
     "name": "stdout",
     "output_type": "stream",
     "text": [
      "config\n",
      " {'train_dataset_path': '/home/elkhand/datasets/Quora/data/quora_duplicate_questions.tsv', 'test_size': 0.01, 'val_size': 0.01, 'max_seq_len': 32, 'embedding_dimension': 300, 'batch_size': 3096, 'nb_epochs': 100, 'recurrent_dropout': 0.3, 'dropout': 0.3, 'seed': 7, 'is_debug_on': False} \n",
      "\n",
      "\n",
      "\n",
      "\n",
      " trainDataset Label distribution:  is_duplicate\n",
      "0    249952\n",
      "1    146292\n",
      "Name: is_duplicate, dtype: int64 \n",
      "\n",
      "\n",
      " valDataset Label distribution:  is_duplicate\n",
      "0    2525\n",
      "1    1478\n",
      "Name: is_duplicate, dtype: int64 \n",
      "\n",
      "\n",
      " testDataset Label distribution:  is_duplicate\n",
      "0    2550\n",
      "1    1493\n",
      "Name: is_duplicate, dtype: int64 \n",
      "\n"
     ]
    }
   ],
   "source": [
    "# First split dataset into train(99%) and test(1%)\n",
    "test_size = 0.01 # 0.2\n",
    "val_size = 0.01 # 0.2\n",
    "\n",
    "config = du.get_config(train_dataset_path, test_size=test_size, val_size=val_size, embedding_dimension=emb_dim)\n",
    "trainDataset, testDataset = du.create_train_test_split(config)\n",
    "\n",
    "print(\"\\n\")\n",
    "\n",
    "# Second, split train dataset into train (98%) and val (1%) datasets\n",
    "trainDataset, valDataset = du.create_train_test_split_from_df(trainDataset, config, isValSplit=True)\n",
    "\n",
    "\n",
    "print(\"\\n\",\"trainDataset Label distribution: \", trainDataset.groupby('is_duplicate').is_duplicate.count(), \"\\n\")\n",
    "print(\"\\n\",\"valDataset Label distribution: \", valDataset.groupby('is_duplicate').is_duplicate.count() , \"\\n\")\n",
    "print(\"\\n\",\"testDataset Label distribution: \", testDataset.groupby('is_duplicate').is_duplicate.count() , \"\\n\")"
   ]
  },
  {
   "cell_type": "code",
   "execution_count": 4,
   "metadata": {},
   "outputs": [
    {
     "data": {
      "text/html": [
       "<div>\n",
       "<style scoped>\n",
       "    .dataframe tbody tr th:only-of-type {\n",
       "        vertical-align: middle;\n",
       "    }\n",
       "\n",
       "    .dataframe tbody tr th {\n",
       "        vertical-align: top;\n",
       "    }\n",
       "\n",
       "    .dataframe thead th {\n",
       "        text-align: right;\n",
       "    }\n",
       "</style>\n",
       "<table border=\"1\" class=\"dataframe\">\n",
       "  <thead>\n",
       "    <tr style=\"text-align: right;\">\n",
       "      <th></th>\n",
       "      <th>question1</th>\n",
       "      <th>question2</th>\n",
       "      <th>is_duplicate</th>\n",
       "    </tr>\n",
       "  </thead>\n",
       "  <tbody>\n",
       "    <tr>\n",
       "      <th>0</th>\n",
       "      <td>Why does yellow mustard relieve a burn</td>\n",
       "      <td>What is the difference between Dijon mustard a...</td>\n",
       "      <td>0</td>\n",
       "    </tr>\n",
       "    <tr>\n",
       "      <th>1</th>\n",
       "      <td>What startup companies are hiring in Bangalore</td>\n",
       "      <td>Are there any startups hiring in Bangalore</td>\n",
       "      <td>1</td>\n",
       "    </tr>\n",
       "    <tr>\n",
       "      <th>2</th>\n",
       "      <td>What is the Bermuda Triangle</td>\n",
       "      <td>What do you think about the Bermuda Triangle</td>\n",
       "      <td>0</td>\n",
       "    </tr>\n",
       "    <tr>\n",
       "      <th>3</th>\n",
       "      <td>What are some fun things to do</td>\n",
       "      <td>What are some fun things to do in Delhi</td>\n",
       "      <td>0</td>\n",
       "    </tr>\n",
       "    <tr>\n",
       "      <th>4</th>\n",
       "      <td>How can I find the mole weight of air if I don...</td>\n",
       "      <td>How do I plan a 10 day trip to Norway from Mum...</td>\n",
       "      <td>0</td>\n",
       "    </tr>\n",
       "  </tbody>\n",
       "</table>\n",
       "</div>"
      ],
      "text/plain": [
       "                                           question1  \\\n",
       "0            Why does yellow mustard relieve a burn    \n",
       "1    What startup companies are hiring in Bangalore    \n",
       "2                      What is the Bermuda Triangle    \n",
       "3                    What are some fun things to do    \n",
       "4  How can I find the mole weight of air if I don...   \n",
       "\n",
       "                                           question2  is_duplicate  \n",
       "0  What is the difference between Dijon mustard a...             0  \n",
       "1        Are there any startups hiring in Bangalore              1  \n",
       "2      What do you think about the Bermuda Triangle              0  \n",
       "3           What are some fun things to do in Delhi              0  \n",
       "4  How do I plan a 10 day trip to Norway from Mum...             0  "
      ]
     },
     "execution_count": 4,
     "metadata": {},
     "output_type": "execute_result"
    }
   ],
   "source": [
    "trainDataset.head()"
   ]
  },
  {
   "cell_type": "markdown",
   "metadata": {},
   "source": [
    "# Load embeddings\n",
    "\n",
    "We will be using Fasttext Wiki word vectors 300D"
   ]
  },
  {
   "cell_type": "code",
   "execution_count": 5,
   "metadata": {},
   "outputs": [
    {
     "name": "stdout",
     "output_type": "stream",
     "text": [
      "word vectors path /home/elkhand/datasets/fasttext/wiki.en.vec\n",
      "embedding size : 2519371\n",
      "embedding dimension : (300,)\n",
      "Total time passed:  324.72332859039307\n"
     ]
    }
   ],
   "source": [
    "print(\"word vectors path\", embedding_path)\n",
    "start = time.time()\n",
    "w2v = du.load_embedding(embedding_path)\n",
    "end = time.time()\n",
    "print(\"Total time passed: \", (end-start))"
   ]
  },
  {
   "cell_type": "markdown",
   "metadata": {},
   "source": [
    "## Set Keras to use Tensorflow GPU in the backend"
   ]
  },
  {
   "cell_type": "code",
   "execution_count": 6,
   "metadata": {
    "scrolled": true
   },
   "outputs": [],
   "source": [
    "# os.environ[\"CUDA_VISIBLE_DEVICES\"]=\"1\"\n",
    "\n",
    "\n",
    "\n",
    "# num_cores = 8\n",
    "# GPU=True\n",
    "# CPU = not GPU\n",
    "\n",
    "# if GPU:\n",
    "#     num_GPU = 1\n",
    "#     num_CPU = 8\n",
    "# if CPU:\n",
    "#     num_CPU = 8\n",
    "#     num_GPU = 0\n",
    "\n",
    "# configProto = tf.ConfigProto(intra_op_parallelism_threads=num_cores,\\\n",
    "#         inter_op_parallelism_threads=num_cores, allow_soft_placement=True,\\\n",
    "#         device_count = {'CPU' : num_CPU, 'GPU' : num_GPU})\n",
    "# session = tf.Session(config=configProto)\n",
    "# K.set_session(session)"
   ]
  },
  {
   "cell_type": "markdown",
   "metadata": {},
   "source": [
    "## Train and evaluate model"
   ]
  },
  {
   "cell_type": "markdown",
   "metadata": {},
   "source": [
    "### Load Dataset"
   ]
  },
  {
   "cell_type": "code",
   "execution_count": 7,
   "metadata": {},
   "outputs": [
    {
     "name": "stdout",
     "output_type": "stream",
     "text": [
      "Total time passed 179.79782032966614\n",
      "df_train_q1_emb.shape (396244, 32, 300)\n",
      "df_train_q2_emb.shape (396244, 32, 300)\n",
      "df_train_label.shape (396244,)\n",
      "df_val_q1_emb.shape (4003, 32, 300)\n",
      "df_val_q2_emb.shape (4003, 32, 300)\n",
      "df_val_label.shape (4003,)\n"
     ]
    }
   ],
   "source": [
    "start = time.time()\n",
    "df_train_q1_emb,df_train_q2_emb, df_train_label  = du.load_dataset(trainDataset,w2v,config)\n",
    "df_val_q1_emb,df_val_q2_emb, df_val_label  = du.load_dataset(valDataset,w2v, config)\n",
    "end = time.time()\n",
    "\n",
    "print(\"Total time passed\", (end - start))\n",
    "print(\"df_train_q1_emb.shape\",df_train_q1_emb.shape)\n",
    "print(\"df_train_q2_emb.shape\", df_train_q2_emb.shape)\n",
    "print(\"df_train_label.shape\", df_train_label.shape)\n",
    "    \n",
    "print(\"df_val_q1_emb.shape\",df_val_q1_emb.shape)\n",
    "print(\"df_val_q2_emb.shape\", df_val_q2_emb.shape)\n",
    "print(\"df_val_label.shape\", df_val_label.shape)"
   ]
  },
  {
   "cell_type": "markdown",
   "metadata": {},
   "source": [
    "### Limit amount of data to be used"
   ]
  },
  {
   "cell_type": "code",
   "execution_count": 8,
   "metadata": {},
   "outputs": [
    {
     "name": "stdout",
     "output_type": "stream",
     "text": [
      "Total time passed 179.79782032966614\n",
      "df_train_q1_emb.shape (396244, 32, 300)\n",
      "df_train_q2_emb.shape (396244, 32, 300)\n",
      "df_train_label.shape (396244,)\n",
      "df_val_q1_emb.shape (4003, 32, 300)\n",
      "df_val_q2_emb.shape (4003, 32, 300)\n",
      "df_val_label.shape (4003,)\n"
     ]
    }
   ],
   "source": [
    "limit = 100000\n",
    "\n",
    "# df_train_q1_emb_limit = df_train_q1_emb[:limit,:,:]\n",
    "# df_train_q2_emb_limit = df_train_q2_emb[:limit,:,:]\n",
    "# df_train_label_limit  = df_train_label[:limit]\n",
    "\n",
    "# df_val_q1_emb_limit = df_val_q1_emb[:limit,:,:]\n",
    "# df_val_q2_emb_limit = df_val_q2_emb[:limit,:,:]\n",
    "# df_val_label_limit = df_val_label[:limit]\n",
    "\n",
    "\n",
    "df_train_q1_emb_limit = df_train_q1_emb\n",
    "df_train_q2_emb_limit = df_train_q2_emb\n",
    "df_train_label_limit  = df_train_label\n",
    "\n",
    "df_val_q1_emb_limit = df_val_q1_emb\n",
    "df_val_q2_emb_limit = df_val_q2_emb\n",
    "df_val_label_limit = df_val_label\n",
    "\n",
    "\n",
    "print(\"Total time passed\", (end - start))\n",
    "print(\"df_train_q1_emb.shape\",df_train_q1_emb_limit.shape)\n",
    "print(\"df_train_q2_emb.shape\", df_train_q2_emb_limit.shape)\n",
    "print(\"df_train_label.shape\", df_train_label_limit.shape)\n",
    "    \n",
    "print(\"df_val_q1_emb.shape\",df_val_q1_emb_limit.shape)\n",
    "print(\"df_val_q2_emb.shape\", df_val_q2_emb_limit.shape)\n",
    "print(\"df_val_label.shape\", df_val_label_limit.shape)"
   ]
  },
  {
   "cell_type": "markdown",
   "metadata": {},
   "source": [
    "### Build & Train the model"
   ]
  },
  {
   "cell_type": "code",
   "execution_count": 9,
   "metadata": {
    "scrolled": false
   },
   "outputs": [
    {
     "name": "stdout",
     "output_type": "stream",
     "text": [
      "config\n",
      " {'train_dataset_path': '/home/elkhand/datasets/Quora/data/quora_duplicate_questions.tsv', 'test_size': 0.01, 'val_size': 0.01, 'max_seq_len': 32, 'embedding_dimension': 300, 'batch_size': 3096, 'nb_epochs': 100, 'recurrent_dropout': 0.3, 'dropout': 0.3, 'seed': 7, 'is_debug_on': False} \n",
      "\n",
      "Total time passed 2.384185791015625e-07\n",
      "df_train_q1_emb.shape (396244, 32, 300)\n",
      "df_train_q2_emb.shape (396244, 32, 300)\n",
      "df_train_label.shape (396244,)\n",
      "df_val_q1_emb.shape (4003, 32, 300)\n",
      "df_val_q2_emb.shape (4003, 32, 300)\n",
      "df_val_label.shape (4003,)\n",
      "__________________________________________________________________________________________________\n",
      "Layer (type)                    Output Shape         Param #     Connected to                     \n",
      "==================================================================================================\n",
      "q1_in (InputLayer)              (None, 32, 300)      0                                            \n",
      "__________________________________________________________________________________________________\n",
      "q2_in (InputLayer)              (None, 32, 300)      0                                            \n",
      "__________________________________________________________________________________________________\n",
      "masking_1 (Masking)             (None, 32, 300)      0           q1_in[0][0]                      \n",
      "__________________________________________________________________________________________________\n",
      "masking_2 (Masking)             (None, 32, 300)      0           q2_in[0][0]                      \n",
      "__________________________________________________________________________________________________\n",
      "bidirectional_1 (Bidirectional) (None, 256)          439296      masking_1[0][0]                  \n",
      "                                                                 masking_2[0][0]                  \n",
      "__________________________________________________________________________________________________\n",
      "bidirectional_2 (Bidirectional) (None, 256)          439296      masking_2[0][0]                  \n",
      "                                                                 masking_1[0][0]                  \n",
      "__________________________________________________________________________________________________\n",
      "subtract_1 (Subtract)           (None, 256)          0           bidirectional_1[0][0]            \n",
      "                                                                 bidirectional_1[1][0]            \n",
      "__________________________________________________________________________________________________\n",
      "subtract_2 (Subtract)           (None, 256)          0           bidirectional_2[1][0]            \n",
      "                                                                 bidirectional_2[0][0]            \n",
      "__________________________________________________________________________________________________\n",
      "multiply_1 (Multiply)           (None, 256)          0           subtract_1[0][0]                 \n",
      "                                                                 subtract_1[0][0]                 \n",
      "__________________________________________________________________________________________________\n",
      "multiply_2 (Multiply)           (None, 256)          0           bidirectional_1[0][0]            \n",
      "                                                                 bidirectional_1[1][0]            \n",
      "__________________________________________________________________________________________________\n",
      "multiply_3 (Multiply)           (None, 256)          0           subtract_2[0][0]                 \n",
      "                                                                 subtract_2[0][0]                 \n",
      "__________________________________________________________________________________________________\n",
      "multiply_4 (Multiply)           (None, 256)          0           bidirectional_2[1][0]            \n",
      "                                                                 bidirectional_2[0][0]            \n",
      "__________________________________________________________________________________________________\n",
      "concatenate_1 (Concatenate)     (None, 2048)         0           bidirectional_1[0][0]            \n",
      "                                                                 bidirectional_1[1][0]            \n",
      "                                                                 multiply_1[0][0]                 \n",
      "                                                                 multiply_2[0][0]                 \n",
      "                                                                 multiply_3[0][0]                 \n",
      "                                                                 multiply_4[0][0]                 \n",
      "                                                                 bidirectional_2[0][0]            \n",
      "                                                                 bidirectional_2[1][0]            \n",
      "__________________________________________________________________________________________________\n",
      "dropout_1 (Dropout)             (None, 2048)         0           concatenate_1[0][0]              \n",
      "__________________________________________________________________________________________________\n",
      "dense1 (Dense)                  (None, 256)          524544      dropout_1[0][0]                  \n",
      "__________________________________________________________________________________________________\n",
      "dropout_2 (Dropout)             (None, 256)          0           dense1[0][0]                     \n",
      "__________________________________________________________________________________________________\n",
      "dense2 (Dense)                  (None, 128)          32896       dropout_2[0][0]                  \n",
      "__________________________________________________________________________________________________\n",
      "dropout_3 (Dropout)             (None, 128)          0           dense2[0][0]                     \n",
      "__________________________________________________________________________________________________\n",
      "output (Dense)                  (None, 1)            129         dropout_3[0][0]                  \n",
      "==================================================================================================\n",
      "Total params: 1,436,161\n",
      "Trainable params: 1,436,161\n",
      "Non-trainable params: 0\n",
      "__________________________________________________________________________________________________\n",
      "Train on 396244 samples, validate on 4003 samples\n",
      "Epoch 1/100\n",
      "396244/396244 [==============================] - 71s 179us/step - loss: 0.5735 - acc: 0.6811 - f1: 0.4331 - recall: 0.3967 - precision: 0.6022 - val_loss: 0.4777 - val_acc: 0.7702 - val_f1: 0.6986 - val_recall: 0.7218 - val_precision: 0.6769\n",
      "Epoch 2/100\n",
      "396244/396244 [==============================] - 60s 152us/step - loss: 0.4776 - acc: 0.7607 - f1: 0.6707 - recall: 0.6684 - precision: 0.6836 - val_loss: 0.4320 - val_acc: 0.7964 - val_f1: 0.7404 - val_recall: 0.7872 - val_precision: 0.6988\n",
      "Epoch 3/100\n",
      "396244/396244 [==============================] - 60s 152us/step - loss: 0.4416 - acc: 0.7848 - f1: 0.7103 - recall: 0.7184 - precision: 0.7071 - val_loss: 0.4148 - val_acc: 0.8046 - val_f1: 0.7595 - val_recall: 0.8362 - val_precision: 0.6959\n",
      "Epoch 4/100\n",
      "396244/396244 [==============================] - 60s 153us/step - loss: 0.4180 - acc: 0.7998 - f1: 0.7335 - recall: 0.7488 - precision: 0.7220 - val_loss: 0.3859 - val_acc: 0.8144 - val_f1: 0.7593 - val_recall: 0.7935 - val_precision: 0.7280\n",
      "Epoch 5/100\n",
      "396244/396244 [==============================] - 60s 152us/step - loss: 0.3999 - acc: 0.8105 - f1: 0.7481 - recall: 0.7649 - precision: 0.7350 - val_loss: 0.3736 - val_acc: 0.8266 - val_f1: 0.7744 - val_recall: 0.8069 - val_precision: 0.7444\n",
      "Epoch 6/100\n",
      "396244/396244 [==============================] - 60s 152us/step - loss: 0.3847 - acc: 0.8193 - f1: 0.7606 - recall: 0.7799 - precision: 0.7452 - val_loss: 0.3707 - val_acc: 0.8366 - val_f1: 0.7764 - val_recall: 0.7686 - val_precision: 0.7844\n",
      "Epoch 7/100\n",
      "396244/396244 [==============================] - 60s 152us/step - loss: 0.3693 - acc: 0.8276 - f1: 0.7723 - recall: 0.7937 - precision: 0.7542 - val_loss: 0.3514 - val_acc: 0.8379 - val_f1: 0.7905 - val_recall: 0.8293 - val_precision: 0.7552\n",
      "Epoch 8/100\n"
     ]
    },
    {
     "name": "stdout",
     "output_type": "stream",
     "text": [
      "396244/396244 [==============================] - 61s 153us/step - loss: 0.3569 - acc: 0.8353 - f1: 0.7830 - recall: 0.8067 - precision: 0.7629 - val_loss: 0.3456 - val_acc: 0.8441 - val_f1: 0.7926 - val_recall: 0.8073 - val_precision: 0.7787\n",
      "Epoch 9/100\n",
      "396244/396244 [==============================] - 60s 153us/step - loss: 0.3446 - acc: 0.8418 - f1: 0.7919 - recall: 0.8173 - precision: 0.7702 - val_loss: 0.3433 - val_acc: 0.8469 - val_f1: 0.7953 - val_recall: 0.8065 - val_precision: 0.7846\n",
      "Epoch 10/100\n",
      "396244/396244 [==============================] - 60s 152us/step - loss: 0.3331 - acc: 0.8486 - f1: 0.8007 - recall: 0.8252 - precision: 0.7796 - val_loss: 0.3336 - val_acc: 0.8489 - val_f1: 0.8101 - val_recall: 0.8735 - val_precision: 0.7553\n",
      "Epoch 11/100\n",
      "396244/396244 [==============================] - 60s 153us/step - loss: 0.3212 - acc: 0.8546 - f1: 0.8088 - recall: 0.8344 - precision: 0.7861 - val_loss: 0.3290 - val_acc: 0.8556 - val_f1: 0.8100 - val_recall: 0.8342 - val_precision: 0.7872\n",
      "Epoch 12/100\n",
      "396244/396244 [==============================] - 60s 152us/step - loss: 0.3099 - acc: 0.8603 - f1: 0.8163 - recall: 0.8414 - precision: 0.7940 - val_loss: 0.3366 - val_acc: 0.8541 - val_f1: 0.8007 - val_recall: 0.7938 - val_precision: 0.8078\n",
      "Epoch 13/100\n",
      "396244/396244 [==============================] - 60s 152us/step - loss: 0.2995 - acc: 0.8667 - f1: 0.8246 - recall: 0.8498 - precision: 0.8027 - val_loss: 0.3235 - val_acc: 0.8579 - val_f1: 0.8152 - val_recall: 0.8503 - val_precision: 0.7830\n",
      "Epoch 14/100\n",
      "396244/396244 [==============================] - 61s 153us/step - loss: 0.2897 - acc: 0.8715 - f1: 0.8307 - recall: 0.8555 - precision: 0.8088 - val_loss: 0.3247 - val_acc: 0.8611 - val_f1: 0.8152 - val_recall: 0.8307 - val_precision: 0.8003\n",
      "Epoch 15/100\n",
      "396244/396244 [==============================] - 61s 153us/step - loss: 0.2774 - acc: 0.8773 - f1: 0.8382 - recall: 0.8618 - precision: 0.8169 - val_loss: 0.3259 - val_acc: 0.8579 - val_f1: 0.8199 - val_recall: 0.8773 - val_precision: 0.7695\n",
      "\n",
      "Epoch 00015: ReduceLROnPlateau reducing learning rate to 0.001600000075995922.\n",
      "Epoch 16/100\n",
      "396244/396244 [==============================] - 57s 144us/step - loss: 0.2601 - acc: 0.8856 - f1: 0.8491 - recall: 0.8722 - precision: 0.8277 - val_loss: 0.3254 - val_acc: 0.8614 - val_f1: 0.8178 - val_recall: 0.8431 - val_precision: 0.7941\n",
      "Epoch 17/100\n",
      "396244/396244 [==============================] - 57s 143us/step - loss: 0.2514 - acc: 0.8902 - f1: 0.8549 - recall: 0.8767 - precision: 0.8349 - val_loss: 0.3386 - val_acc: 0.8611 - val_f1: 0.8188 - val_recall: 0.8506 - val_precision: 0.7895\n",
      "\n",
      "Epoch 00017: ReduceLROnPlateau reducing learning rate to 0.0012800000607967378.\n",
      "Epoch 18/100\n",
      "396244/396244 [==============================] - 57s 143us/step - loss: 0.2376 - acc: 0.8969 - f1: 0.8635 - recall: 0.8841 - precision: 0.8442 - val_loss: 0.3387 - val_acc: 0.8641 - val_f1: 0.8218 - val_recall: 0.8493 - val_precision: 0.7963\n",
      "Epoch 19/100\n",
      "396244/396244 [==============================] - 57s 143us/step - loss: 0.2279 - acc: 0.9007 - f1: 0.8686 - recall: 0.8890 - precision: 0.8494 - val_loss: 0.3450 - val_acc: 0.8668 - val_f1: 0.8222 - val_recall: 0.8343 - val_precision: 0.8107\n",
      "\n",
      "Epoch 00019: ReduceLROnPlateau reducing learning rate to 0.0010240000672638416.\n",
      "Epoch 20/100\n",
      "396244/396244 [==============================] - 57s 143us/step - loss: 0.2164 - acc: 0.9066 - f1: 0.8761 - recall: 0.8947 - precision: 0.8584 - val_loss: 0.3474 - val_acc: 0.8651 - val_f1: 0.8235 - val_recall: 0.8531 - val_precision: 0.7960\n",
      "Epoch 21/100\n",
      "396244/396244 [==============================] - 57s 143us/step - loss: 0.2087 - acc: 0.9101 - f1: 0.8808 - recall: 0.8998 - precision: 0.8628 - val_loss: 0.3545 - val_acc: 0.8696 - val_f1: 0.8270 - val_recall: 0.8450 - val_precision: 0.8099\n",
      "\n",
      "Epoch 00021: ReduceLROnPlateau reducing learning rate to 0.0008192000910639763.\n",
      "Epoch 22/100\n",
      "396244/396244 [==============================] - 57s 143us/step - loss: 0.1988 - acc: 0.9148 - f1: 0.8867 - recall: 0.9039 - precision: 0.8703 - val_loss: 0.3707 - val_acc: 0.8661 - val_f1: 0.8231 - val_recall: 0.8444 - val_precision: 0.8030\n",
      "Epoch 23/100\n",
      "396244/396244 [==============================] - 57s 143us/step - loss: 0.1933 - acc: 0.9174 - f1: 0.8902 - recall: 0.9070 - precision: 0.8742 - val_loss: 0.3811 - val_acc: 0.8656 - val_f1: 0.8242 - val_recall: 0.8538 - val_precision: 0.7966\n",
      "\n",
      "Epoch 00023: ReduceLROnPlateau reducing learning rate to 0.0006553600542247295.\n",
      "Total time 1386.5661928653717\n",
      "best_train_acc 0.9174094950221015\n",
      "best_val_acc 0.8695977991621345\n",
      "best_val_f1 0.8269851556159007\n",
      "best_train_f1 0.8901588693741751\n"
     ]
    },
    {
     "data": {
      "image/png": "[encoded data removed]",
      "text/plain": [
       "<Figure size 432x288 with 1 Axes>"
      ]
     },
     "metadata": {},
     "output_type": "display_data"
    },
    {
     "data": {
      "image/png": "[encoded data removed]",
      "text/plain": [
       "<Figure size 432x288 with 1 Axes>"
      ]
     },
     "metadata": {},
     "output_type": "display_data"
    },
    {
     "data": {
      "image/png": "[encoded data removed]",
      "text/plain": [
       "<Figure size 432x288 with 1 Axes>"
      ]
     },
     "metadata": {},
     "output_type": "display_data"
    }
   ],
   "source": [
    "from keras import backend as K\n",
    "from keras.callbacks import EarlyStopping\n",
    "from keras.callbacks import ModelCheckpoint\n",
    "from keras.callbacks import ReduceLROnPlateau\n",
    "from keras.layers import Dense\n",
    "from keras.layers import GRU, Bidirectional\n",
    "from keras.layers.core import Dropout\n",
    "from keras.layers.core import Masking\n",
    "from keras.layers.normalization import BatchNormalization\n",
    "from keras.models import Sequential\n",
    "import keras\n",
    "from keras.layers import multiply\n",
    "\n",
    "from keras.layers import Input, Embedding, LSTM, Dense\n",
    "from keras.models import Model\n",
    "from keras.utils import plot_model\n",
    "from keras.layers import Masking\n",
    "\n",
    "\n",
    "# Create models dir if it does not exist\n",
    "model_dir = \"models\"\n",
    "du.create_dir(model_dir)\n",
    "\n",
    "\n",
    "def _build_model(config, model_dir, drop_rate=0.3):\n",
    "    \n",
    "    shared_lstm1 = keras.layers.Bidirectional(LSTM(128), merge_mode='concat', weights=None)\n",
    "    shared_lstm2 = keras.layers.Bidirectional(LSTM(128), merge_mode='concat', weights=None)\n",
    "    \n",
    "    input1 = keras.layers.Input(shape=(config[\"max_seq_len\"],config[\"embedding_dimension\"], ), name='q1_in')\n",
    "    mask1 = Masking(mask_value=0.0)(input1)\n",
    "    # Passing through the 1st shared lstm\n",
    "    # This time shared_lstm1 learns on q1_in\n",
    "    x1 = shared_lstm1(mask1)\n",
    "    \n",
    "    input2 = keras.layers.Input(shape=(config[\"max_seq_len\"],config[\"embedding_dimension\"], ), name='q2_in')\n",
    "    mask2 = Masking(mask_value=0.0)(input2)\n",
    "    \n",
    "    # This time shared_lstm1 learns on q2_in\n",
    "    x2 = shared_lstm1(mask2)\n",
    "    \n",
    "    # Passing through 2nd shared lstm\n",
    "    # This time shared_lstm2 learns on q2_in, and then on q1_in\n",
    "    x22 = shared_lstm2(mask2)\n",
    "    x11 = shared_lstm2(mask1)\n",
    "    \n",
    "    # Equivalent to subtracted = keras.layers.subtract([x1, x2])\n",
    "    subtracted = keras.layers.Subtract()([x1, x2])\n",
    "    subtracted = multiply([subtracted, subtracted])\n",
    "    \n",
    "    mult = multiply([x1, x2])\n",
    "    #dotProduct = keras.layers.dot([x1, x2], axes = -1,  normalize=False)\n",
    "    \n",
    "    \n",
    "    subtracted2 = keras.layers.Subtract()([x11, x22])\n",
    "    subtracted2 = multiply([subtracted2, subtracted2])\n",
    "    \n",
    "    mult2 = multiply([x11, x22])\n",
    "    #dotProduct2 = keras.layers.dot([x11, x22], axes = -1,  normalize=False)\n",
    "    \n",
    "    diffSubtracted = keras.layers.Subtract()([subtracted, subtracted2])\n",
    "    diffSubtractedMult =  multiply([diffSubtracted, diffSubtracted])\n",
    "    subtractMult = multiply([subtracted, subtracted2])\n",
    "    \n",
    "    concatenate = keras.layers.concatenate([x1,x2, subtracted, mult,# diffSubtracted, diffSubtractedMult, subtractMult, \n",
    "                                            subtracted2, mult2, x22, x11], axis=-1)\n",
    "    concatenate = Dropout(drop_rate)(concatenate)\n",
    "    #concatenate = keras.layers.concatenate([x1,x2], axis=-1)\n",
    "    \n",
    "    dense1 = Dense(256, activation='relu', name='dense1')(concatenate)\n",
    "    dense1 = Dropout(drop_rate)(dense1)\n",
    "    \n",
    "    dense2 = Dense(128, activation='relu', name='dense2')(dense1)\n",
    "    dense2 = Dropout(drop_rate)(dense2)\n",
    "    \n",
    "    output = Dense(1, activation='sigmoid', name='output')(dense2)\n",
    "    with tf.device('/cpu:0'):\n",
    "        model = Model(inputs=[input1, input2], outputs=[output])\n",
    "    \n",
    "    parallel_model = multi_gpu_model(model, gpus=2)\n",
    "    optimizer = keras.optimizers.Nadam()\n",
    "    #optimizer = keras.optimizers.Adam()\n",
    "    parallel_model.compile(loss='binary_crossentropy', optimizer=optimizer, \n",
    "                  metrics=['accuracy', du.f1, du.recall, du.precision])\n",
    "    model.summary()\n",
    "    plot_model(model, show_shapes=True, to_file= os.path.join(model_dir,\"model_architecture.png\"))\n",
    "    return parallel_model\n",
    "\n",
    "\n",
    "def train_model():\n",
    "    start = time.time()\n",
    "    end = time.time()\n",
    "    print(\"Total time passed\", (end - start))\n",
    "    print(\"df_train_q1_emb.shape\",df_train_q1_emb_limit.shape)\n",
    "    print(\"df_train_q2_emb.shape\", df_train_q2_emb_limit.shape)\n",
    "    print(\"df_train_label.shape\", df_train_label_limit.shape)\n",
    "    \n",
    "    print(\"df_val_q1_emb.shape\",df_val_q1_emb_limit.shape)\n",
    "    print(\"df_val_q2_emb.shape\", df_val_q2_emb_limit.shape)\n",
    "    print(\"df_val_label.shape\", df_val_label_limit.shape)\n",
    "    \n",
    "    model = _build_model(config, model_dir, drop_rate=0.75)\n",
    "    \n",
    "    reduce_lr = ReduceLROnPlateau(monitor='val_loss', \n",
    "                                  factor=0.8, \n",
    "                                  patience=2, \n",
    "                                  #min_lr=0.000001,\n",
    "                                  verbose=1)\n",
    "    \n",
    "    filepath= os.path.join(model_dir, \"best_val_f1_model.h5\")\n",
    "    checkpoint = ModelCheckpoint(filepath, monitor='val_f1', verbose=0, save_best_only=True, mode='max')\n",
    "    early_stopping = EarlyStopping(monitor='val_loss', patience=10) #TODO: 10\n",
    "    callback_list = [reduce_lr, early_stopping, checkpoint]\n",
    "    history = model.fit(x=[df_train_q1_emb_limit, df_train_q2_emb_limit],\n",
    "                  y=df_train_label_limit, \n",
    "                  batch_size=config['batch_size'], \n",
    "                  epochs=config['nb_epochs'], #TODO: config['nb_epochs']\n",
    "                  verbose=1, \n",
    "                  validation_data = ([df_val_q1_emb_limit,df_val_q2_emb_limit], df_val_label_limit),\n",
    "                  callbacks=callback_list)#\n",
    "    return (history,model)\n",
    "\n",
    "start = time.time()\n",
    "config = du.get_config(train_dataset_path, test_size=test_size, val_size=val_size, embedding_dimension=emb_dim)\n",
    "history, model = train_model() \n",
    "end = time.time()\n",
    "print(\"Total time\", (end - start))\n",
    "du.plot_model_accuracy(history,modelDir=model_dir, hasF1=True)"
   ]
  },
  {
   "cell_type": "markdown",
   "metadata": {},
   "source": [
    "# Evaluate on test dataset"
   ]
  },
  {
   "cell_type": "code",
   "execution_count": 10,
   "metadata": {},
   "outputs": [
    {
     "name": "stdout",
     "output_type": "stream",
     "text": [
      "df_test_q1_emb.shape (4043, 32, 300)\n",
      "df_test_q2_emb.shape (4043, 32, 300)\n",
      "df_test_label.shape (4043,)\n",
      "4043/4043 [==============================] - 17s 4ms/step\n",
      "\n",
      " Test results \n",
      "\n",
      "{\n",
      "    \"acc\": 0.852832055478116,\n",
      "    \"f1\": 0.8002071062468256,\n",
      "    \"loss\": 0.44012202756286345,\n",
      "    \"precision\": 0.7786677228676161,\n",
      "    \"recall\": 0.8379252129723876\n",
      "}\n"
     ]
    }
   ],
   "source": [
    "import json\n",
    "\n",
    "df_test_q1_emb, df_test_q2_emb, df_test_label  = du.load_dataset(testDataset,w2v, config)\n",
    "\n",
    "\n",
    "print(\"df_test_q1_emb.shape\",df_test_q1_emb.shape)\n",
    "print(\"df_test_q2_emb.shape\", df_test_q2_emb.shape)\n",
    "print(\"df_test_label.shape\", df_test_label.shape)\n",
    "\n",
    "result = model.evaluate(x=[df_test_q1_emb, df_test_q2_emb], y=df_test_label)\n",
    "metrc_names = model.metrics_names\n",
    "result = {k:v for k,v in zip(metrc_names, result)}\n",
    "\n",
    "\n",
    "result = json.dumps(result, sort_keys=True, indent=4)\n",
    "print(\"\\n Test results \\n\")\n",
    "print(result)"
   ]
  }
 ],
 "metadata": {
  "kernelspec": {
   "display_name": "Python 3",
   "language": "python",
   "name": "python3"
  },
  "language_info": {
   "codemirror_mode": {
    "name": "ipython",
    "version": 3
   },
   "file_extension": ".py",
   "mimetype": "text/x-python",
   "name": "python",
   "nbconvert_exporter": "python",
   "pygments_lexer": "ipython3",
   "version": "3.6.5"
  }
 },
 "nbformat": 4,
 "nbformat_minor": 2
}
