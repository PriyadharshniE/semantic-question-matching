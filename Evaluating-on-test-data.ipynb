{
 "cells": [
  {
   "cell_type": "code",
   "execution_count": 13,
   "metadata": {},
   "outputs": [
    {
     "name": "stdout",
     "output_type": "stream",
     "text": [
      "The autoreload extension is already loaded. To reload it, use:\n",
      "  %reload_ext autoreload\n"
     ]
    }
   ],
   "source": [
    "import keras\n",
    "from keras.models import load_model\n",
    "\n",
    "\n",
    "import sqmutils.data_utils as du\n",
    "\n",
    "import os\n",
    "import time \n",
    "\n",
    "import pandas as pd\n",
    "\n",
    "import json\n",
    "\n",
    "%load_ext autoreload\n",
    "%autoreload 2\n",
    "%matplotlib inline \n"
   ]
  },
  {
   "cell_type": "code",
   "execution_count": 2,
   "metadata": {
    "scrolled": false
   },
   "outputs": [
    {
     "name": "stdout",
     "output_type": "stream",
     "text": [
      "config\n",
      " {'train_dataset_path': None, 'test_size': None, 'val_size': None, 'max_seq_len': 32, 'embedding_dimension': 300, 'batch_size': 3096, 'nb_epochs': 100, 'recurrent_dropout': 0.3, 'dropout': 0.3, 'seed': 7, 'is_debug_on': False} \n",
      "\n"
     ]
    }
   ],
   "source": [
    "model_dir = \"models\"\n",
    "model_weights = os.path.join(model_dir, \"best_val_f1_model.h5\")\n",
    "test_dataset_path = \"/home/elkhand/Downloads/test.csv\"\n",
    "embedding_path = \"/home/elkhand/datasets/fasttext/wiki.en.vec\"\n",
    "emb_dim = 300\n",
    "\n",
    "\n",
    "config = du.get_config(None, None, None,  embedding_dimension=emb_dim)\n",
    "\n",
    "\n",
    "custom_objects= {\"f1\": du.f1, \"recall\" : du.recall, \"precision\" : du.precision}\n",
    "\n",
    "\n",
    "#model = mu._build_model(config, model_dir, drop_rate=0.75, isParallel=False)\n",
    "\n",
    "model = load_model(model_weights, custom_objects = custom_objects)"
   ]
  },
  {
   "cell_type": "markdown",
   "metadata": {},
   "source": [
    "# Reading test data"
   ]
  },
  {
   "cell_type": "code",
   "execution_count": 4,
   "metadata": {},
   "outputs": [
    {
     "name": "stderr",
     "output_type": "stream",
     "text": [
      "/home/elkhand/anaconda3/envs/cs231n/lib/python3.6/site-packages/IPython/core/interactiveshell.py:2785: DtypeWarning: Columns (0) have mixed types. Specify dtype option on import or set low_memory=False.\n",
      "  interactivity=interactivity, compiler=compiler, result=result)\n"
     ]
    },
    {
     "name": "stdout",
     "output_type": "stream",
     "text": [
      "Total time passed 5.631618022918701\n"
     ]
    }
   ],
   "source": [
    "start = time.time()\n",
    "dfTest = pd.read_csv(test_dataset_path, sep=',', encoding='utf-8')\n",
    "end = time.time()\n",
    "print(\"Total time passed\", (end - start))"
   ]
  },
  {
   "cell_type": "code",
   "execution_count": 7,
   "metadata": {},
   "outputs": [
    {
     "data": {
      "text/html": [
       "<div>\n",
       "<style scoped>\n",
       "    .dataframe tbody tr th:only-of-type {\n",
       "        vertical-align: middle;\n",
       "    }\n",
       "\n",
       "    .dataframe tbody tr th {\n",
       "        vertical-align: top;\n",
       "    }\n",
       "\n",
       "    .dataframe thead th {\n",
       "        text-align: right;\n",
       "    }\n",
       "</style>\n",
       "<table border=\"1\" class=\"dataframe\">\n",
       "  <thead>\n",
       "    <tr style=\"text-align: right;\">\n",
       "      <th></th>\n",
       "      <th>test_id</th>\n",
       "      <th>question1</th>\n",
       "      <th>question2</th>\n",
       "    </tr>\n",
       "  </thead>\n",
       "  <tbody>\n",
       "    <tr>\n",
       "      <th>0</th>\n",
       "      <td>0</td>\n",
       "      <td>How does the Surface Pro himself 4 compare wit...</td>\n",
       "      <td>Why did Microsoft choose core m3 and not core ...</td>\n",
       "    </tr>\n",
       "    <tr>\n",
       "      <th>1</th>\n",
       "      <td>1</td>\n",
       "      <td>Should I have a hair transplant at age 24? How...</td>\n",
       "      <td>How much cost does hair transplant require?</td>\n",
       "    </tr>\n",
       "    <tr>\n",
       "      <th>2</th>\n",
       "      <td>2</td>\n",
       "      <td>What but is the best way to send money from Ch...</td>\n",
       "      <td>What you send money to China?</td>\n",
       "    </tr>\n",
       "    <tr>\n",
       "      <th>3</th>\n",
       "      <td>3</td>\n",
       "      <td>Which food not emulsifiers?</td>\n",
       "      <td>What foods fibre?</td>\n",
       "    </tr>\n",
       "    <tr>\n",
       "      <th>4</th>\n",
       "      <td>4</td>\n",
       "      <td>How \"aberystwyth\" start reading?</td>\n",
       "      <td>How their can I start reading?</td>\n",
       "    </tr>\n",
       "    <tr>\n",
       "      <th>5</th>\n",
       "      <td>5</td>\n",
       "      <td>How are the two wheeler insurance from Bharti ...</td>\n",
       "      <td>I admire I am considering of buying insurance ...</td>\n",
       "    </tr>\n",
       "    <tr>\n",
       "      <th>6</th>\n",
       "      <td>6</td>\n",
       "      <td>How can I reduce my belly fat through a diet?</td>\n",
       "      <td>How can I reduce my lower belly fat in one month?</td>\n",
       "    </tr>\n",
       "    <tr>\n",
       "      <th>7</th>\n",
       "      <td>7</td>\n",
       "      <td>By scrapping the 500 and 1000 rupee notes, how...</td>\n",
       "      <td>How will the recent move to declare 500 and 10...</td>\n",
       "    </tr>\n",
       "    <tr>\n",
       "      <th>8</th>\n",
       "      <td>8</td>\n",
       "      <td>What are the how best books of all time?</td>\n",
       "      <td>What are some of the military history books of...</td>\n",
       "    </tr>\n",
       "    <tr>\n",
       "      <th>9</th>\n",
       "      <td>9</td>\n",
       "      <td>After 12th years old boy and I had sex with a ...</td>\n",
       "      <td>Can a 14 old guy date a 12 year old girl?</td>\n",
       "    </tr>\n",
       "  </tbody>\n",
       "</table>\n",
       "</div>"
      ],
      "text/plain": [
       "  test_id                                          question1  \\\n",
       "0       0  How does the Surface Pro himself 4 compare wit...   \n",
       "1       1  Should I have a hair transplant at age 24? How...   \n",
       "2       2  What but is the best way to send money from Ch...   \n",
       "3       3                        Which food not emulsifiers?   \n",
       "4       4                   How \"aberystwyth\" start reading?   \n",
       "5       5  How are the two wheeler insurance from Bharti ...   \n",
       "6       6      How can I reduce my belly fat through a diet?   \n",
       "7       7  By scrapping the 500 and 1000 rupee notes, how...   \n",
       "8       8           What are the how best books of all time?   \n",
       "9       9  After 12th years old boy and I had sex with a ...   \n",
       "\n",
       "                                           question2  \n",
       "0  Why did Microsoft choose core m3 and not core ...  \n",
       "1        How much cost does hair transplant require?  \n",
       "2                      What you send money to China?  \n",
       "3                                  What foods fibre?  \n",
       "4                     How their can I start reading?  \n",
       "5  I admire I am considering of buying insurance ...  \n",
       "6  How can I reduce my lower belly fat in one month?  \n",
       "7  How will the recent move to declare 500 and 10...  \n",
       "8  What are some of the military history books of...  \n",
       "9          Can a 14 old guy date a 12 year old girl?  "
      ]
     },
     "execution_count": 7,
     "metadata": {},
     "output_type": "execute_result"
    }
   ],
   "source": [
    "dfTest[:10]"
   ]
  },
  {
   "cell_type": "markdown",
   "metadata": {},
   "source": [
    "# Load embeddings\n",
    "\n",
    "We will be using Fasttext Wiki word vectors 300D"
   ]
  },
  {
   "cell_type": "code",
   "execution_count": 8,
   "metadata": {},
   "outputs": [
    {
     "name": "stdout",
     "output_type": "stream",
     "text": [
      "word vectors path /home/elkhand/datasets/fasttext/wiki.en.vec\n",
      "embedding size : 2519371\n",
      "embedding dimension : (300,)\n",
      "Total time passed:  326.8346252441406\n"
     ]
    }
   ],
   "source": [
    "print(\"word vectors path\", embedding_path)\n",
    "start = time.time()\n",
    "w2v = du.load_embedding(embedding_path)\n",
    "end = time.time()\n",
    "print(\"Total time passed: \", (end-start))"
   ]
  },
  {
   "cell_type": "markdown",
   "metadata": {},
   "source": [
    "# Convert Test dataset into word vectors"
   ]
  },
  {
   "cell_type": "code",
   "execution_count": 9,
   "metadata": {},
   "outputs": [
    {
     "name": "stdout",
     "output_type": "stream",
     "text": [
      "Total time passed 0.0715322494506836\n"
     ]
    }
   ],
   "source": [
    "limit = 100\n",
    "\n",
    "start = time.time()\n",
    "df_test_q1_emb,df_test_q2_emb  = du.load_dataset(dfTest[:limit], w2v, config, isTestDataset=True)\n",
    "end = time.time()\n",
    "print(\"Total time passed\", (end - start))"
   ]
  },
  {
   "cell_type": "markdown",
   "metadata": {},
   "source": [
    "# Evaluate test dataset"
   ]
  },
  {
   "cell_type": "code",
   "execution_count": 15,
   "metadata": {},
   "outputs": [
    {
     "name": "stdout",
     "output_type": "stream",
     "text": [
      "100/100 [==============================] - 3s 33ms/step\n",
      "[[2.74974197e-01]\n",
      " [1.21576197e-01]\n",
      " [2.39591405e-01]\n",
      " [3.07962619e-04]\n",
      " [7.03492761e-02]\n",
      " [1.85518269e-03]\n",
      " [9.10502911e-01]\n",
      " [9.42221045e-01]\n",
      " [3.40958238e-01]\n",
      " [5.35632810e-03]\n",
      " [6.45618320e-01]\n",
      " [2.97361566e-06]\n",
      " [2.64778789e-11]\n",
      " [3.71955000e-02]\n",
      " [3.39044780e-01]\n",
      " [1.55428305e-01]\n",
      " [1.51343236e-04]\n",
      " [7.17056453e-01]\n",
      " [1.11396126e-01]\n",
      " [1.37341201e-01]\n",
      " [2.36008869e-04]\n",
      " [7.00133678e-05]\n",
      " [2.60508627e-01]\n",
      " [4.39848900e-01]\n",
      " [2.18836349e-02]\n",
      " [7.71729469e-01]\n",
      " [1.96059234e-04]\n",
      " [2.08868762e-04]\n",
      " [5.62036657e-05]\n",
      " [5.00048627e-05]\n",
      " [9.78877768e-04]\n",
      " [3.38044512e-04]\n",
      " [9.21797976e-02]\n",
      " [6.06054924e-02]\n",
      " [3.27766663e-03]\n",
      " [4.39509571e-01]\n",
      " [9.36554534e-06]\n",
      " [1.67222340e-02]\n",
      " [9.46590126e-01]\n",
      " [1.59650762e-02]\n",
      " [8.78638506e-01]\n",
      " [7.44523704e-01]\n",
      " [4.36807752e-01]\n",
      " [6.19019265e-04]\n",
      " [2.71081983e-04]\n",
      " [2.80758411e-01]\n",
      " [8.90025914e-01]\n",
      " [5.64279616e-01]\n",
      " [8.57277989e-01]\n",
      " [5.43361704e-04]\n",
      " [5.28701302e-03]\n",
      " [2.59911031e-01]\n",
      " [1.55903935e-01]\n",
      " [8.12643588e-01]\n",
      " [2.98139446e-09]\n",
      " [9.16030779e-02]\n",
      " [9.69439643e-05]\n",
      " [7.53870641e-04]\n",
      " [3.65359732e-03]\n",
      " [6.89456612e-03]\n",
      " [2.13126808e-01]\n",
      " [4.55315590e-01]\n",
      " [1.18792348e-01]\n",
      " [1.02098900e-04]\n",
      " [9.97851968e-01]\n",
      " [3.16441089e-01]\n",
      " [1.49107710e-01]\n",
      " [4.63615743e-06]\n",
      " [2.75182486e-01]\n",
      " [1.60667102e-03]\n",
      " [2.84990877e-01]\n",
      " [9.23676044e-03]\n",
      " [5.33871591e-01]\n",
      " [2.02534497e-01]\n",
      " [3.46026309e-06]\n",
      " [2.66249501e-03]\n",
      " [4.72800769e-02]\n",
      " [3.19584762e-03]\n",
      " [3.51083159e-01]\n",
      " [4.37997192e-01]\n",
      " [2.11097096e-04]\n",
      " [1.34893395e-02]\n",
      " [2.04128394e-08]\n",
      " [7.12883048e-05]\n",
      " [2.67422259e-01]\n",
      " [6.71488047e-01]\n",
      " [5.34299910e-01]\n",
      " [1.25907653e-03]\n",
      " [3.78162622e-05]\n",
      " [1.57642213e-03]\n",
      " [5.59045865e-12]\n",
      " [9.64111090e-01]\n",
      " [2.54073739e-03]\n",
      " [9.57962751e-01]\n",
      " [1.48196796e-06]\n",
      " [5.70846021e-01]\n",
      " [5.86153437e-05]\n",
      " [7.34773159e-01]\n",
      " [1.31219570e-02]\n",
      " [2.42531702e-01]]\n"
     ]
    }
   ],
   "source": [
    "# evaluate loaded model on test data \n",
    "# Define X_test & Y_test data first\n",
    "optimizer = keras.optimizers.Nadam()\n",
    "model.compile(loss='binary_crossentropy', optimizer=optimizer, \n",
    "                  metrics=['accuracy', du.f1, du.recall, du.precision])\n",
    "#score = loaded_model.evaluate(X_test, Y_test, verbose=0)\n",
    "#print (\"%s: %.2f%%\" % (loaded_model.metrics_names[1], score[1]*100))\n",
    "#result = model.evaluate(x=[df_test_q1_emb, df_test_q2_emb], y=df_test_label)\n",
    "\n",
    "result = model.predict([df_test_q1_emb, df_test_q2_emb], verbose=1) #, batch_size=None, steps=None\n",
    "print(result)\n"
   ]
  }
 ],
 "metadata": {
  "kernelspec": {
   "display_name": "Python 3",
   "language": "python",
   "name": "python3"
  },
  "language_info": {
   "codemirror_mode": {
    "name": "ipython",
    "version": 3
   },
   "file_extension": ".py",
   "mimetype": "text/x-python",
   "name": "python",
   "nbconvert_exporter": "python",
   "pygments_lexer": "ipython3",
   "version": "3.6.5"
  }
 },
 "nbformat": 4,
 "nbformat_minor": 2
}
